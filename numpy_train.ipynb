{
 "cells": [
  {
   "cell_type": "code",
   "execution_count": 1,
   "metadata": {},
   "outputs": [],
   "source": [
    "#matplotlib inline\n",
    "import matplotlib.pyplot as plt\n",
    "from tqdm import tqdm\n",
    "import numpy as np\n",
    "from dataset.dataloader import *\n",
    "import operators as ops\n",
    "import os\n",
    "\n",
    "CKPT_DIR = \"./logs/checkpoints\""
   ]
  },
  {
   "cell_type": "code",
   "execution_count": 2,
   "metadata": {},
   "outputs": [],
   "source": [
    "class VGG8:\n",
    "    def __init__(self):\n",
    "        self.criterion = ops.SoftmaxWithLoss()\n",
    "        self.lr=0.005\n",
    "        # Layer 1 (B, 1, 28, 28) -> (B, 32, 28, 28)\n",
    "        self.L1_C = ops.Conv2D(in_channels=1, out_channels=32, kernel_size=3, padding=1, stride=1)\n",
    "        self.L1_R = ops.ReLU()\n",
    "\n",
    "        # Layer2 (B, 32, 28, 28) -> (B, 64, 14, 14)\n",
    "        self.L2_C = ops.Conv2D(in_channels=32, out_channels=64, kernel_size=3, padding=1, stride=1)\n",
    "        self.L2_R = ops.ReLU()\n",
    "        self.L2_M = ops.MaxPooling(kernel_size=2, stride=2)\n",
    "        \n",
    "        # Layer 3 (B, 64, 14, 14) -> (B, 64, 14, 14)\n",
    "        self.L3_C = ops.Conv2D(in_channels=64, out_channels=64, kernel_size=3, padding=1, stride=1)\n",
    "        self.L3_R = ops.ReLU()\n",
    "\n",
    "        # Layer 4 (B, 64, 14, 14) -> (B, 128, 7, 7)\n",
    "        self.L4_C = ops.Conv2D(in_channels=64, out_channels=128, kernel_size=3, padding=1, stride=1)\n",
    "        self.L4_R = ops.ReLU()\n",
    "        self.L4_M = ops.MaxPooling(kernel_size=2, stride=2)\n",
    "\n",
    "        # Layer 5 (B, 128, 7, 7) -> (B, 256, 7, 7)\n",
    "        self.L5_C = ops.Conv2D(in_channels=128, out_channels=256, kernel_size=3, padding=1, stride=1)\n",
    "        self.L5_R = ops.ReLU()\n",
    "\n",
    "        # Layer 6 (B, 256, 7, 7) -> (B, 256, 7, 7)\n",
    "        self.L6_C = ops.Conv2D(in_channels=256, out_channels=256, kernel_size=3, padding=1, stride=1)\n",
    "        self.L6_R = ops.ReLU()\n",
    "\n",
    "        # Layer 7 (B, 256*7*7) -> (B, 256)\n",
    "        self.L7_F = ops.FullyConnected(in_feature=256*7*7, out_feature=256)\n",
    "        self.L7_R = ops.ReLU()\n",
    "\n",
    "        # Layer 8 (B, 256) -> (B, 10)\n",
    "        self.L8_F = ops.FullyConnected(in_feature=256, out_feature=10)\n",
    "\n",
    "    def backprop(self, pred: np.ndarray, label: np.ndarray) -> None:\n",
    "        # Backward\n",
    "        #dout = self.criterion.backward(pred, label)\n",
    "        dout = self.criterion.backward(1)\n",
    "        dout = self.L8_F.backward(dout)\n",
    "        dout = self.L7_R.backward(dout)\n",
    "        dout = self.L7_F.backward(dout)\n",
    "        dout = dout.reshape(dout.shape[0], 256, 7, 7)\n",
    "        dout = self.L6_R.backward(dout)\n",
    "        dout = self.L6_C.backward(dout)\n",
    "        dout = self.L5_R.backward(dout)\n",
    "        dout = self.L5_C.backward(dout)\n",
    "        dout = self.L4_M.backward(dout)\n",
    "        dout = self.L4_R.backward(dout)\n",
    "        dout = self.L4_C.backward(dout)\n",
    "        dout = self.L3_R.backward(dout)\n",
    "        dout = self.L3_C.backward(dout)\n",
    "        dout = self.L2_M.backward(dout)\n",
    "        dout = self.L2_R.backward(dout)\n",
    "        dout = self.L2_C.backward(dout)\n",
    "        dout = self.L1_R.backward(dout)\n",
    "        dout = self.L1_C.backward(dout)\n",
    "        # Update\n",
    "        self.L8_F.update(self.lr)\n",
    "        self.L7_F.update(self.lr)\n",
    "        self.L6_C.update(self.lr)\n",
    "        self.L5_C.update(self.lr)\n",
    "        self.L4_C.update(self.lr)\n",
    "        self.L3_C.update(self.lr)\n",
    "        self.L2_C.update(self.lr)\n",
    "        self.L1_C.update(self.lr)\n",
    "        return dout\n",
    "\n",
    "    def forward(self, x: np.ndarray):\n",
    "        x = self.L1_C.forward(x)\n",
    "        x = self.L1_R.forward(x)\n",
    "        x = self.L2_C.forward(x)\n",
    "        x = self.L2_R.forward(x)\n",
    "        x = self.L2_M.forward(x)\n",
    "        x = self.L3_C.forward(x)\n",
    "        x = self.L3_R.forward(x)\n",
    "        x = self.L4_C.forward(x)\n",
    "        x = self.L4_R.forward(x)\n",
    "        x = self.L4_M.forward(x)\n",
    "        x = self.L5_C.forward(x)\n",
    "        x = self.L5_R.forward(x)\n",
    "        x = self.L6_C.forward(x)\n",
    "        x = self.L6_R.forward(x)\n",
    "        x = x.reshape(x.shape[0],-1)\n",
    "        x = self.L7_F.forward(x)\n",
    "        x = self.L7_R.forward(x)\n",
    "        x = self.L8_F.forward(x)\n",
    "        return x\n",
    "\n",
    "    def save(self, fileName: str):\n",
    "        with open(fileName, \"wb\") as f:\n",
    "            pickle.dump(self, f)\n",
    "\n",
    "    def load(self, fileName: str):\n",
    "        with open(fileName, \"rb\") as f:\n",
    "            self = pickle.load(f)"
   ]
  },
  {
   "cell_type": "code",
   "execution_count": 3,
   "metadata": {},
   "outputs": [],
   "source": [
    "model = VGG8()"
   ]
  },
  {
   "cell_type": "code",
   "execution_count": 4,
   "metadata": {},
   "outputs": [
    {
     "name": "stdout",
     "output_type": "stream",
     "text": [
      "Train:(60000, 10), Test:(10000, 10)\n"
     ]
    }
   ],
   "source": [
    "(x_train, t_train), (x_test, t_test) = load_mnist(normalize=True, one_hot_label=True)\n",
    "\n",
    "batch_size = 200\n",
    "loss_print_time = batch_size * 10\n",
    "x_log = []\n",
    "loss_log = []\n",
    "\n",
    "print(f\"Train:{t_train.shape}, Test:{t_test.shape}\")"
   ]
  },
  {
   "cell_type": "code",
   "execution_count": 5,
   "metadata": {},
   "outputs": [
    {
     "name": "stderr",
     "output_type": "stream",
     "text": [
      "  1%|          | 1/120 [00:11<22:29, 11.34s/it]"
     ]
    },
    {
     "name": "stdout",
     "output_type": "stream",
     "text": [
      "[epoch:0, data num:0] loss: 0.002888362738571731\n"
     ]
    },
    {
     "name": "stderr",
     "output_type": "stream",
     "text": [
      "  2%|▏         | 2/120 [00:31<31:09, 15.84s/it]\n"
     ]
    },
    {
     "ename": "KeyboardInterrupt",
     "evalue": "",
     "output_type": "error",
     "traceback": [
      "\u001b[0;31m---------------------------------------------------------------------------\u001b[0m",
      "\u001b[0;31mKeyboardInterrupt\u001b[0m                         Traceback (most recent call last)",
      "\u001b[0;32m/tmp/ipykernel_7185/4004579968.py\u001b[0m in \u001b[0;36m<module>\u001b[0;34m\u001b[0m\n\u001b[1;32m     12\u001b[0m         \u001b[0mloss\u001b[0m \u001b[0;34m=\u001b[0m \u001b[0mmodel\u001b[0m\u001b[0;34m.\u001b[0m\u001b[0mcriterion\u001b[0m\u001b[0;34m.\u001b[0m\u001b[0mforward\u001b[0m\u001b[0;34m(\u001b[0m\u001b[0moutputs\u001b[0m\u001b[0;34m,\u001b[0m \u001b[0mlabels\u001b[0m\u001b[0;34m)\u001b[0m\u001b[0;34m\u001b[0m\u001b[0;34m\u001b[0m\u001b[0m\n\u001b[1;32m     13\u001b[0m         \u001b[0mrunning_loss\u001b[0m \u001b[0;34m+=\u001b[0m \u001b[0mloss\u001b[0m\u001b[0;34m\u001b[0m\u001b[0;34m\u001b[0m\u001b[0m\n\u001b[0;32m---> 14\u001b[0;31m         \u001b[0mmodel\u001b[0m\u001b[0;34m.\u001b[0m\u001b[0mbackprop\u001b[0m\u001b[0;34m(\u001b[0m\u001b[0moutputs\u001b[0m\u001b[0;34m,\u001b[0m \u001b[0mlabels\u001b[0m\u001b[0;34m)\u001b[0m\u001b[0;34m\u001b[0m\u001b[0;34m\u001b[0m\u001b[0m\n\u001b[0m\u001b[1;32m     15\u001b[0m \u001b[0;34m\u001b[0m\u001b[0m\n\u001b[1;32m     16\u001b[0m         \u001b[0;32mif\u001b[0m \u001b[0;34m(\u001b[0m\u001b[0mi\u001b[0m \u001b[0;34m%\u001b[0m \u001b[0mloss_print_time\u001b[0m \u001b[0;34m==\u001b[0m \u001b[0;36m0\u001b[0m\u001b[0;34m)\u001b[0m\u001b[0;34m:\u001b[0m\u001b[0;34m\u001b[0m\u001b[0;34m\u001b[0m\u001b[0m\n",
      "\u001b[0;32m/tmp/ipykernel_7185/3512115645.py\u001b[0m in \u001b[0;36mbackprop\u001b[0;34m(self, pred, label)\u001b[0m\n\u001b[1;32m     55\u001b[0m         \u001b[0mdout\u001b[0m \u001b[0;34m=\u001b[0m \u001b[0mself\u001b[0m\u001b[0;34m.\u001b[0m\u001b[0mL2_M\u001b[0m\u001b[0;34m.\u001b[0m\u001b[0mbackward\u001b[0m\u001b[0;34m(\u001b[0m\u001b[0mdout\u001b[0m\u001b[0;34m)\u001b[0m\u001b[0;34m\u001b[0m\u001b[0;34m\u001b[0m\u001b[0m\n\u001b[1;32m     56\u001b[0m         \u001b[0mdout\u001b[0m \u001b[0;34m=\u001b[0m \u001b[0mself\u001b[0m\u001b[0;34m.\u001b[0m\u001b[0mL2_R\u001b[0m\u001b[0;34m.\u001b[0m\u001b[0mbackward\u001b[0m\u001b[0;34m(\u001b[0m\u001b[0mdout\u001b[0m\u001b[0;34m)\u001b[0m\u001b[0;34m\u001b[0m\u001b[0;34m\u001b[0m\u001b[0m\n\u001b[0;32m---> 57\u001b[0;31m         \u001b[0mdout\u001b[0m \u001b[0;34m=\u001b[0m \u001b[0mself\u001b[0m\u001b[0;34m.\u001b[0m\u001b[0mL2_C\u001b[0m\u001b[0;34m.\u001b[0m\u001b[0mbackward\u001b[0m\u001b[0;34m(\u001b[0m\u001b[0mdout\u001b[0m\u001b[0;34m)\u001b[0m\u001b[0;34m\u001b[0m\u001b[0;34m\u001b[0m\u001b[0m\n\u001b[0m\u001b[1;32m     58\u001b[0m         \u001b[0mdout\u001b[0m \u001b[0;34m=\u001b[0m \u001b[0mself\u001b[0m\u001b[0;34m.\u001b[0m\u001b[0mL1_R\u001b[0m\u001b[0;34m.\u001b[0m\u001b[0mbackward\u001b[0m\u001b[0;34m(\u001b[0m\u001b[0mdout\u001b[0m\u001b[0;34m)\u001b[0m\u001b[0;34m\u001b[0m\u001b[0;34m\u001b[0m\u001b[0m\n\u001b[1;32m     59\u001b[0m         \u001b[0mdout\u001b[0m \u001b[0;34m=\u001b[0m \u001b[0mself\u001b[0m\u001b[0;34m.\u001b[0m\u001b[0mL1_C\u001b[0m\u001b[0;34m.\u001b[0m\u001b[0mbackward\u001b[0m\u001b[0;34m(\u001b[0m\u001b[0mdout\u001b[0m\u001b[0;34m)\u001b[0m\u001b[0;34m\u001b[0m\u001b[0;34m\u001b[0m\u001b[0m\n",
      "\u001b[0;32m/mnt/c/Users/user/workspace/DL_Seminar_Task1/operators.py\u001b[0m in \u001b[0;36mbackward\u001b[0;34m(self, dout)\u001b[0m\n\u001b[1;32m    139\u001b[0m \u001b[0;34m\u001b[0m\u001b[0m\n\u001b[1;32m    140\u001b[0m         \u001b[0mdcol\u001b[0m \u001b[0;34m=\u001b[0m \u001b[0mnp\u001b[0m\u001b[0;34m.\u001b[0m\u001b[0mdot\u001b[0m\u001b[0;34m(\u001b[0m\u001b[0mdout\u001b[0m\u001b[0;34m,\u001b[0m \u001b[0mself\u001b[0m\u001b[0;34m.\u001b[0m\u001b[0mcol_W\u001b[0m\u001b[0;34m.\u001b[0m\u001b[0mT\u001b[0m\u001b[0;34m)\u001b[0m\u001b[0;34m\u001b[0m\u001b[0;34m\u001b[0m\u001b[0m\n\u001b[0;32m--> 141\u001b[0;31m         \u001b[0mdx\u001b[0m \u001b[0;34m=\u001b[0m \u001b[0mcol2im\u001b[0m\u001b[0;34m(\u001b[0m\u001b[0mdcol\u001b[0m\u001b[0;34m,\u001b[0m \u001b[0mself\u001b[0m\u001b[0;34m.\u001b[0m\u001b[0mx_shape\u001b[0m\u001b[0;34m,\u001b[0m \u001b[0mself\u001b[0m\u001b[0;34m.\u001b[0m\u001b[0mkernel_size\u001b[0m\u001b[0;34m,\u001b[0m \u001b[0mself\u001b[0m\u001b[0;34m.\u001b[0m\u001b[0mstride\u001b[0m\u001b[0;34m,\u001b[0m \u001b[0mself\u001b[0m\u001b[0;34m.\u001b[0m\u001b[0mpadding\u001b[0m\u001b[0;34m)\u001b[0m\u001b[0;34m\u001b[0m\u001b[0;34m\u001b[0m\u001b[0m\n\u001b[0m\u001b[1;32m    142\u001b[0m \u001b[0;34m\u001b[0m\u001b[0m\n\u001b[1;32m    143\u001b[0m         \u001b[0;32mreturn\u001b[0m \u001b[0mdx\u001b[0m\u001b[0;34m\u001b[0m\u001b[0;34m\u001b[0m\u001b[0m\n",
      "\u001b[0;32m/mnt/c/Users/user/workspace/DL_Seminar_Task1/operators.py\u001b[0m in \u001b[0;36mcol2im\u001b[0;34m(col, input_shape, filter_size, stride, pad)\u001b[0m\n\u001b[1;32m     83\u001b[0m     \u001b[0;31m#        x_max = x + stride*out_w\u001b[0m\u001b[0;34m\u001b[0m\u001b[0;34m\u001b[0m\u001b[0;34m\u001b[0m\u001b[0m\n\u001b[1;32m     84\u001b[0m     \u001b[0;31m#        img[:, :, y:y_max:stride, x:x_max:stride] += col[:, :, y, x, :, :]\u001b[0m\u001b[0;34m\u001b[0m\u001b[0;34m\u001b[0m\u001b[0;34m\u001b[0m\u001b[0m\n\u001b[0;32m---> 85\u001b[0;31m     \u001b[0mimg\u001b[0m \u001b[0;34m=\u001b[0m \u001b[0mcol2im_sub\u001b[0m\u001b[0;34m(\u001b[0m\u001b[0mB\u001b[0m\u001b[0;34m,\u001b[0m \u001b[0mC\u001b[0m\u001b[0;34m,\u001b[0m \u001b[0mH\u001b[0m\u001b[0;34m,\u001b[0m \u001b[0mpad\u001b[0m\u001b[0;34m,\u001b[0m \u001b[0mstride\u001b[0m\u001b[0;34m,\u001b[0m \u001b[0mW\u001b[0m\u001b[0;34m,\u001b[0m \u001b[0mfilter_size\u001b[0m\u001b[0;34m,\u001b[0m \u001b[0mout_h\u001b[0m\u001b[0;34m,\u001b[0m \u001b[0mout_w\u001b[0m\u001b[0;34m,\u001b[0m \u001b[0mcol\u001b[0m\u001b[0;34m)\u001b[0m\u001b[0;34m\u001b[0m\u001b[0;34m\u001b[0m\u001b[0m\n\u001b[0m\u001b[1;32m     86\u001b[0m \u001b[0;34m\u001b[0m\u001b[0m\n\u001b[1;32m     87\u001b[0m     \u001b[0;32mreturn\u001b[0m \u001b[0mimg\u001b[0m\u001b[0;34m[\u001b[0m\u001b[0;34m:\u001b[0m\u001b[0;34m,\u001b[0m \u001b[0;34m:\u001b[0m\u001b[0;34m,\u001b[0m \u001b[0mpad\u001b[0m\u001b[0;34m:\u001b[0m\u001b[0mH\u001b[0m \u001b[0;34m+\u001b[0m \u001b[0mpad\u001b[0m\u001b[0;34m,\u001b[0m \u001b[0mpad\u001b[0m\u001b[0;34m:\u001b[0m\u001b[0mW\u001b[0m \u001b[0;34m+\u001b[0m \u001b[0mpad\u001b[0m\u001b[0;34m]\u001b[0m\u001b[0;34m\u001b[0m\u001b[0;34m\u001b[0m\u001b[0m\n",
      "\u001b[0;32m~/miniconda3/lib/python3.9/site-packages/numba/core/serialize.py\u001b[0m in \u001b[0;36m_numba_unpickle\u001b[0;34m(address, bytedata, hashed)\u001b[0m\n\u001b[1;32m     27\u001b[0m \u001b[0;34m\u001b[0m\u001b[0m\n\u001b[1;32m     28\u001b[0m \u001b[0;34m\u001b[0m\u001b[0m\n\u001b[0;32m---> 29\u001b[0;31m \u001b[0;32mdef\u001b[0m \u001b[0m_numba_unpickle\u001b[0m\u001b[0;34m(\u001b[0m\u001b[0maddress\u001b[0m\u001b[0;34m,\u001b[0m \u001b[0mbytedata\u001b[0m\u001b[0;34m,\u001b[0m \u001b[0mhashed\u001b[0m\u001b[0;34m)\u001b[0m\u001b[0;34m:\u001b[0m\u001b[0;34m\u001b[0m\u001b[0;34m\u001b[0m\u001b[0m\n\u001b[0m\u001b[1;32m     30\u001b[0m     \"\"\"Used by `numba_unpickle` from _helperlib.c\n\u001b[1;32m     31\u001b[0m \u001b[0;34m\u001b[0m\u001b[0m\n",
      "\u001b[0;31mKeyboardInterrupt\u001b[0m: "
     ]
    }
   ],
   "source": [
    "\n",
    "for epoch in range(10):\n",
    "    accuracy = 0.0\n",
    "    train_size = x_train.shape[0]\n",
    "    running_loss = 0.0\n",
    "    for i in tqdm(range(0, train_size, batch_size)):\n",
    "        x = x_train[i:i+batch_size].reshape(batch_size, 1, 28, 28)   # B, C, H, W\n",
    "        labels = t_train[i:i+batch_size]\n",
    "        #optimizer.zero_grad()\n",
    "\n",
    "        outputs = model.forward(x)\n",
    "        labels = labels\n",
    "        loss = model.criterion.forward(outputs, labels)\n",
    "        running_loss += loss\n",
    "        model.backprop(outputs, labels)\n",
    "\n",
    "        if (i % loss_print_time == 0):\n",
    "            running_loss /= loss_print_time\n",
    "            print(f'[epoch:{epoch}, data num:{i}] loss: {running_loss}')\n",
    "            x_log.append(i)\n",
    "            loss_log.append(running_loss)\n",
    "            running_loss = 0.0\n",
    "            #model.save(os.path.join(CKPT_DIR, \"epoch_%03d_%06d.pkl\" % (epoch, i) ))\n",
    "\n",
    "\n"
   ]
  },
  {
   "cell_type": "code",
   "execution_count": null,
   "metadata": {},
   "outputs": [
    {
     "data": {
      "image/png": "[encoded data removed]",
      "text/plain": [
       "<Figure size 432x288 with 1 Axes>"
      ]
     },
     "metadata": {
      "needs_background": "light"
     },
     "output_type": "display_data"
    }
   ],
   "source": [
    "plt.plot(x_log, loss_log)\n",
    "plt.show()"
   ]
  },
  {
   "cell_type": "markdown",
   "metadata": {},
   "source": []
  },
  {
   "cell_type": "code",
   "execution_count": null,
   "metadata": {},
   "outputs": [
    {
     "name": "stdout",
     "output_type": "stream",
     "text": [
      "(60000, 10)\n"
     ]
    },
    {
     "name": "stderr",
     "output_type": "stream",
     "text": [
      "100%|██████████| 1000/1000 [00:12<00:00, 79.25it/s]"
     ]
    },
    {
     "name": "stdout",
     "output_type": "stream",
     "text": [
      "Accuracy:0.098\n"
     ]
    },
    {
     "name": "stderr",
     "output_type": "stream",
     "text": [
      "\n"
     ]
    }
   ],
   "source": [
    "print(t_train.shape)\n",
    "batch_size = 200\n",
    "total_correct = 0\n",
    "\n",
    "running_loss = 0.0\n",
    "accuracy = 0.0\n",
    "test_size = 1000\n",
    "test_data_idx = np.random.choice(x_test.shape[0], test_size)\n",
    "for i in tqdm(test_data_idx):\n",
    "    x = x_test[i].reshape(1, 1, 28, 28)\n",
    "    labels = t_test[i]\n",
    "\n",
    "    outputs = model.forward(x)\n",
    "    labels = labels.reshape(outputs.shape)\n",
    "    c = (np.argmax(labels, 1) == np.argmax(outputs, 1)).squeeze()\n",
    "    total_correct += np.sum(c)\n",
    "\n",
    "print(f\"Accuracy:{total_correct/test_size}\")\n"
   ]
  },
  {
   "cell_type": "code",
   "execution_count": null,
   "metadata": {},
   "outputs": [],
   "source": []
  }
 ],
 "metadata": {
  "interpreter": {
   "hash": "9a7cdbdf4acc413f2026664a4e43a97e227e5467d9e60d879c8298bb8a0c0924"
  },
  "kernelspec": {
   "display_name": "Python 3.8.5 64-bit ('base': conda)",
   "language": "python",
   "name": "python3"
  },
  "language_info": {
   "codemirror_mode": {
    "name": "ipython",
    "version": 3
   },
   "file_extension": ".py",
   "mimetype": "text/x-python",
   "name": "python",
   "nbconvert_exporter": "python",
   "pygments_lexer": "ipython3",
   "version": "3.9.7"
  },
  "orig_nbformat": 4
 },
 "nbformat": 4,
 "nbformat_minor": 2
}
