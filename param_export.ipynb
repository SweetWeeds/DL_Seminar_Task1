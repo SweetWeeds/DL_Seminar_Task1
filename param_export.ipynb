{
 "cells": [
  {
   "cell_type": "code",
   "execution_count": 2,
   "metadata": {},
   "outputs": [],
   "source": [
    "#matplotlib inline\n",
    "import matplotlib.pyplot as plt\n",
    "from tqdm import tqdm\n",
    "import numpy as np\n",
    "from dataset.dataloader import *\n",
    "import operators as ops\n",
    "import os\n"
   ]
  },
  {
   "cell_type": "code",
   "execution_count": 3,
   "metadata": {},
   "outputs": [],
   "source": [
    "class VGG8:\n",
    "    def __init__(self):\n",
    "        self.criterion = ops.SoftmaxWithLoss()\n",
    "        self.conv_layers = [\n",
    "            # Layer 1 (B, 1, 28, 28) -> (B, 32, 28, 28)\n",
    "            ops.Conv2D(in_channels=1, out_channels=32, kernel_size=3, padding=1, stride=1, name=\"L1_C\"),\n",
    "            ops.ReLU(name=\"L1_R\"),\n",
    "\n",
    "            # Layer2 (B, 32, 28, 28) -> (B, 64, 14, 14)\n",
    "            ops.Conv2D(in_channels=32, out_channels=64, kernel_size=3, padding=1, stride=1, name=\"L2_C\"),\n",
    "            ops.ReLU(name=\"L2_R\"),\n",
    "            ops.MaxPooling(kernel_size=2, stride=2, name=\"L2_M\"),\n",
    "            \n",
    "            # Layer 3 (B, 64, 14, 14) -> (B, 64, 14, 14)\n",
    "            ops.Conv2D(in_channels=64, out_channels=64, kernel_size=3, padding=1, stride=1, name=\"L3_C\"),\n",
    "            ops.ReLU(name=\"L3_R\"),\n",
    "\n",
    "            # Layer 4 (B, 64, 14, 14) -> (B, 128, 7, 7)\n",
    "            ops.Conv2D(in_channels=64, out_channels=128, kernel_size=3, padding=1, stride=1, name=\"L4_C\"),\n",
    "            ops.ReLU(name=\"L4_R\"),\n",
    "            ops.MaxPooling(kernel_size=2, stride=2, name=\"L4_M\"),\n",
    "\n",
    "            # Layer 5 (B, 128, 7, 7) -> (B, 256, 7, 7)\n",
    "            ops.Conv2D(in_channels=128, out_channels=256, kernel_size=3, padding=1, stride=1, name=\"L5_C\"),\n",
    "            ops.ReLU(name=\"L5_R\"),\n",
    "\n",
    "            # Layer 6 (B, 256, 7, 7) -> (B, 256, 7, 7)\n",
    "            ops.Conv2D(in_channels=256, out_channels=256, kernel_size=3, padding=1, stride=1, name=\"L6_C\"),\n",
    "            ops.ReLU(name=\"L6_R\")\n",
    "        ]\n",
    "\n",
    "        # Layer 7 (B, 256*7*7) -> (B, 256)\n",
    "        self.fc_layers = [\n",
    "            ops.FullyConnected(in_feature=256*7*7, out_feature=256, name=\"L7_FC\"),\n",
    "            ops.ReLU(name=\"L7_R\"),\n",
    "\n",
    "        # Layer 8 (B, 256) -> (B, 10)\n",
    "            ops.FullyConnected(in_feature=256, out_feature=10, name=\"L8_FC\")\n",
    "        ]\n",
    "\n",
    "    def backprop(self, lr, m=None) -> None:\n",
    "        # Backward\n",
    "        #dout = self.criterion.backward(pred, label)\n",
    "        dout = self.criterion.backward()\n",
    "        for i in range(len(self.fc_layers)-1, -1, -1):\n",
    "            dout = self.fc_layers[i].backward(dout)\n",
    "        dout = dout.reshape(dout.shape[0], 256, 7, 7)\n",
    "        for i in range(len(self.conv_layers)-1, -1, -1):\n",
    "            dout = self.conv_layers[i].backward(dout)\n",
    "        # Update\n",
    "        for layer in self.conv_layers:\n",
    "            layer.update(lr, m)\n",
    "        for layer in self.fc_layers:\n",
    "            layer.update(lr, m)\n",
    "        return dout\n",
    "\n",
    "    def forward(self, x: np.ndarray):\n",
    "        i = 0\n",
    "        for layer in self.conv_layers:\n",
    "            i+=1\n",
    "            x = layer.forward(x) \n",
    "        x = x.reshape(x.shape[0],-1)\n",
    "        for layer in self.fc_layers:\n",
    "            x = layer.forward(x)\n",
    "        return x\n",
    "\n",
    "    def save(self, fileName: str):\n",
    "        with open(fileName, \"wb\") as f:\n",
    "            pickle.dump(self, f)\n",
    "\n",
    "    def load(self, fileName: str):\n",
    "        with open(fileName, \"rb\") as f:\n",
    "            self = pickle.load(f)"
   ]
  },
  {
   "cell_type": "code",
   "execution_count": 4,
   "metadata": {},
   "outputs": [],
   "source": [
    "model = VGG8()\n",
    "model.load(\"220124_2023.pkl\")"
   ]
  },
  {
   "cell_type": "code",
   "execution_count": 5,
   "metadata": {},
   "outputs": [
    {
     "data": {
      "text/plain": [
       "array([[[[4.62458459e-03, 3.99824478e-04, 9.77968962e-03],\n",
       "         [3.84079777e-03, 4.77061568e-03, 5.50048784e-04],\n",
       "         [2.98215712e-03, 7.95168498e-04, 8.16629981e-04]]],\n",
       "\n",
       "\n",
       "       [[[3.42122452e-03, 7.39672426e-03, 7.38935714e-03],\n",
       "         [7.84431277e-03, 5.22945729e-04, 7.69617609e-03],\n",
       "         [6.01127653e-03, 8.66694491e-03, 6.34720227e-03]]],\n",
       "\n",
       "\n",
       "       [[[7.00884866e-04, 1.57810622e-03, 4.09459854e-03],\n",
       "         [8.33626264e-03, 5.42549515e-04, 4.09612732e-04],\n",
       "         [2.68228777e-03, 5.30477856e-03, 9.12786787e-03]]],\n",
       "\n",
       "\n",
       "       [[[1.02738764e-03, 5.46235258e-03, 5.23236548e-03],\n",
       "         [4.15337921e-05, 2.61958704e-03, 6.35949423e-03],\n",
       "         [8.76873453e-03, 5.33889774e-03, 4.83703923e-03]]],\n",
       "\n",
       "\n",
       "       [[[1.31797691e-03, 5.26725336e-03, 6.85928678e-03],\n",
       "         [5.08714967e-03, 6.14111710e-03, 1.54220454e-03],\n",
       "         [7.24590486e-03, 8.70907196e-03, 4.90356682e-03]]],\n",
       "\n",
       "\n",
       "       [[[2.90811340e-04, 1.90264634e-04, 6.73788771e-03],\n",
       "         [9.54841162e-03, 2.20390224e-03, 1.78538283e-03],\n",
       "         [1.10581793e-03, 8.42568855e-03, 5.83119779e-03]]],\n",
       "\n",
       "\n",
       "       [[[9.42272788e-04, 8.68234390e-03, 1.18516182e-03],\n",
       "         [1.02520198e-03, 4.97184068e-03, 6.54735696e-03],\n",
       "         [7.41380103e-03, 1.67500829e-03, 6.99458875e-03]]],\n",
       "\n",
       "\n",
       "       [[[7.38798851e-03, 5.02531283e-03, 6.30546008e-03],\n",
       "         [9.50027977e-03, 7.47752292e-03, 7.49537214e-03],\n",
       "         [2.28186530e-03, 9.57706092e-03, 6.20066261e-03]]],\n",
       "\n",
       "\n",
       "       [[[3.71533238e-03, 6.81522925e-03, 1.15059389e-03],\n",
       "         [2.60618130e-03, 9.72196368e-03, 4.21804344e-03],\n",
       "         [7.76974469e-03, 9.53525047e-03, 3.36738474e-03]]],\n",
       "\n",
       "\n",
       "       [[[9.34949655e-03, 3.04813601e-03, 5.64500614e-03],\n",
       "         [8.45512409e-03, 3.66928850e-03, 8.02615211e-03],\n",
       "         [8.60466340e-04, 8.84993681e-03, 8.49443805e-03]]],\n",
       "\n",
       "\n",
       "       [[[2.29570398e-03, 8.48330430e-03, 2.71917368e-03],\n",
       "         [8.27055246e-03, 2.60659610e-03, 4.27888623e-03],\n",
       "         [4.13771947e-03, 4.81796962e-03, 7.31625450e-03]]],\n",
       "\n",
       "\n",
       "       [[[5.35205077e-03, 1.79054192e-03, 1.09363152e-03],\n",
       "         [9.72840037e-03, 4.48379540e-03, 6.29156238e-03],\n",
       "         [7.07841206e-03, 4.98331171e-03, 3.52476180e-03]]],\n",
       "\n",
       "\n",
       "       [[[7.93692227e-03, 6.16551265e-03, 6.14523766e-03],\n",
       "         [4.85544490e-03, 4.21827964e-03, 1.12122148e-03],\n",
       "         [4.77436993e-03, 2.03552636e-03, 2.70455319e-03]]],\n",
       "\n",
       "\n",
       "       [[[7.28071200e-03, 9.43211008e-03, 6.32048526e-03],\n",
       "         [2.36709998e-03, 3.85658766e-03, 2.90976103e-03],\n",
       "         [4.65008375e-03, 5.57738008e-03, 8.76841601e-03]]],\n",
       "\n",
       "\n",
       "       [[[7.74002369e-03, 6.47533955e-03, 2.71662286e-03],\n",
       "         [9.60959613e-03, 5.23768290e-03, 4.55161127e-03],\n",
       "         [4.11606366e-03, 6.00748960e-03, 9.89044238e-03]]],\n",
       "\n",
       "\n",
       "       [[[2.48293923e-03, 4.59570414e-03, 3.79369133e-04],\n",
       "         [7.81949950e-03, 3.97094626e-03, 7.15411159e-03],\n",
       "         [8.65889073e-03, 6.09873577e-04, 1.23437774e-03]]],\n",
       "\n",
       "\n",
       "       [[[5.62978982e-03, 3.04862495e-03, 4.52339865e-03],\n",
       "         [8.92382129e-03, 9.10831345e-03, 9.14596743e-03],\n",
       "         [7.79063711e-03, 1.67602425e-03, 2.82419885e-03]]],\n",
       "\n",
       "\n",
       "       [[[6.32748937e-03, 9.43938483e-03, 6.38400169e-03],\n",
       "         [5.39546024e-03, 6.11752383e-03, 3.88617870e-03],\n",
       "         [7.12436874e-03, 5.29640676e-03, 8.65073422e-03]]],\n",
       "\n",
       "\n",
       "       [[[5.74354065e-03, 7.78744480e-03, 8.86006592e-03],\n",
       "         [2.24518334e-03, 1.46009414e-03, 2.55736277e-03],\n",
       "         [5.82185282e-03, 4.44661158e-03, 2.25274713e-03]]],\n",
       "\n",
       "\n",
       "       [[[8.20373513e-03, 8.23922962e-04, 7.56624283e-03],\n",
       "         [5.67929184e-03, 4.59462500e-03, 9.61397176e-03],\n",
       "         [4.87791675e-03, 5.09032224e-03, 5.07813235e-03]]],\n",
       "\n",
       "\n",
       "       [[[8.80696176e-03, 1.84333203e-03, 1.08251685e-03],\n",
       "         [5.41256993e-03, 9.45100847e-03, 1.80465128e-03],\n",
       "         [3.77992754e-03, 8.10374466e-03, 8.65468440e-03]]],\n",
       "\n",
       "\n",
       "       [[[5.19782956e-03, 1.87497144e-03, 3.81862879e-03],\n",
       "         [1.21861594e-03, 6.26175747e-03, 1.57568311e-03],\n",
       "         [6.84396400e-03, 9.73337183e-03, 2.29042642e-03]]],\n",
       "\n",
       "\n",
       "       [[[4.85837730e-03, 5.02069570e-03, 5.83327077e-03],\n",
       "         [7.60633694e-03, 8.66012484e-03, 3.48928379e-03],\n",
       "         [6.68864566e-03, 5.96401038e-03, 6.06898647e-03]]],\n",
       "\n",
       "\n",
       "       [[[6.58223041e-03, 8.49253121e-03, 3.31648536e-03],\n",
       "         [4.98006053e-03, 3.71060966e-03, 6.33184886e-03],\n",
       "         [8.91838404e-04, 6.89977933e-03, 9.62993284e-03]]],\n",
       "\n",
       "\n",
       "       [[[5.65105701e-03, 9.02656525e-03, 9.84184419e-03],\n",
       "         [7.85829422e-03, 6.54755603e-03, 4.71065043e-03],\n",
       "         [2.09682562e-03, 9.72088854e-03, 2.69991266e-03]]],\n",
       "\n",
       "\n",
       "       [[[8.93536416e-03, 9.74370770e-04, 9.58799071e-03],\n",
       "         [3.67079292e-03, 5.28827290e-03, 3.27605734e-03],\n",
       "         [7.00245526e-03, 6.38400544e-03, 2.24515232e-03]]],\n",
       "\n",
       "\n",
       "       [[[7.33808448e-03, 1.67681538e-03, 4.44436467e-03],\n",
       "         [3.33482858e-03, 6.98951211e-03, 9.79559749e-04],\n",
       "         [1.99059289e-03, 2.46346281e-03, 3.50175304e-03]]],\n",
       "\n",
       "\n",
       "       [[[8.17185804e-03, 9.96578517e-03, 2.74020560e-03],\n",
       "         [8.38375458e-04, 2.72522384e-03, 2.59743504e-03],\n",
       "         [9.15162180e-04, 3.42328205e-04, 8.87857830e-03]]],\n",
       "\n",
       "\n",
       "       [[[2.47153878e-03, 7.30662739e-03, 8.83587720e-03],\n",
       "         [9.07808291e-04, 8.57951342e-03, 4.61674232e-03],\n",
       "         [6.97958545e-03, 1.61980704e-03, 7.35167589e-03]]],\n",
       "\n",
       "\n",
       "       [[[9.37548796e-03, 5.60315475e-03, 9.03012034e-04],\n",
       "         [2.13043424e-03, 6.76805787e-04, 8.40197757e-03],\n",
       "         [5.39472481e-03, 3.60220220e-03, 4.85184635e-03]]],\n",
       "\n",
       "\n",
       "       [[[8.23273156e-03, 8.97333200e-03, 4.56345720e-04],\n",
       "         [3.30551047e-03, 4.76245937e-04, 4.06729745e-03],\n",
       "         [1.38353325e-03, 6.79698915e-03, 7.03643211e-03]]],\n",
       "\n",
       "\n",
       "       [[[6.77238221e-03, 3.64818238e-03, 5.84500831e-03],\n",
       "         [5.48661023e-03, 4.53349025e-03, 4.08815898e-03],\n",
       "         [6.80606865e-03, 3.43578616e-03, 4.45053131e-03]]]])"
      ]
     },
     "execution_count": 5,
     "metadata": {},
     "output_type": "execute_result"
    }
   ],
   "source": [
    "model.conv_layers[0].W"
   ]
  },
  {
   "cell_type": "code",
   "execution_count": 9,
   "metadata": {},
   "outputs": [
    {
     "name": "stdout",
     "output_type": "stream",
     "text": [
      "L1_R not have params.\n",
      "L2_R not have params.\n",
      "L2_M not have params.\n",
      "L3_R not have params.\n",
      "L4_R not have params.\n",
      "L4_M not have params.\n",
      "L5_R not have params.\n",
      "L6_R not have params.\n",
      "L7_R not have params.\n"
     ]
    }
   ],
   "source": [
    "with open(\"vgg8_params.bin\", \"wb\") as f:\n",
    "    for layer in model.conv_layers:\n",
    "        try:\n",
    "            W = layer.W.astype(np.float32)\n",
    "            b = layer.b.astype(np.float32)\n",
    "            f.write(W.tobytes())\n",
    "            f.write(b.tobytes())\n",
    "        except:\n",
    "            print(f\"{layer.name} not have params.\")\n",
    "    for layer in model.fc_layers:\n",
    "        try:\n",
    "            W = layer.W.astype(np.float32)\n",
    "            b = layer.b.astype(np.float32)\n",
    "            f.write(W.tobytes())\n",
    "            f.write(b.tobytes())\n",
    "        except:\n",
    "            print(f\"{layer.name} not have params.\")"
   ]
  },
  {
   "cell_type": "code",
   "execution_count": 12,
   "metadata": {},
   "outputs": [
    {
     "data": {
      "text/plain": [
       "'d489973b'"
      ]
     },
     "execution_count": 12,
     "metadata": {},
     "output_type": "execute_result"
    }
   ],
   "source": [
    "model.conv_layers[0].W.astype(np.float32).flatten()[0].tobytes().hex()"
   ]
  },
  {
   "cell_type": "code",
   "execution_count": 16,
   "metadata": {},
   "outputs": [
    {
     "data": {
      "text/plain": [
       "0.00977969"
      ]
     },
     "execution_count": 16,
     "metadata": {},
     "output_type": "execute_result"
    }
   ],
   "source": [
    "model.conv_layers[0].W.astype(np.float32).flatten()[2]"
   ]
  },
  {
   "cell_type": "code",
   "execution_count": 32,
   "metadata": {},
   "outputs": [
    {
     "data": {
      "text/plain": [
       "array([0.00950201, 0.00823721, 0.00605205, ..., 0.00931372, 0.00071106,\n",
       "       0.0043539 ], dtype=float32)"
      ]
     },
     "execution_count": 32,
     "metadata": {},
     "output_type": "execute_result"
    }
   ],
   "source": [
    "model.conv_layers[2].W.astype(np.float32).flatten()"
   ]
  },
  {
   "cell_type": "code",
   "execution_count": 21,
   "metadata": {},
   "outputs": [
    {
     "data": {
      "text/plain": [
       "[<operators.Conv2D at 0x7f71768b56d0>,\n",
       " <operators.ReLU at 0x7f71768b5820>,\n",
       " <operators.Conv2D at 0x7f71768b5bb0>,\n",
       " <operators.ReLU at 0x7f7210e43610>,\n",
       " <operators.MaxPooling at 0x7f72118dbac0>,\n",
       " <operators.Conv2D at 0x7f7220018940>,\n",
       " <operators.ReLU at 0x7f7220018310>,\n",
       " <operators.Conv2D at 0x7f7220018040>,\n",
       " <operators.ReLU at 0x7f72117614c0>,\n",
       " <operators.MaxPooling at 0x7f7211741f10>,\n",
       " <operators.Conv2D at 0x7f71768b5be0>,\n",
       " <operators.ReLU at 0x7f71768b5c40>,\n",
       " <operators.Conv2D at 0x7f71768b5ca0>,\n",
       " <operators.ReLU at 0x7f71768b55e0>]"
      ]
     },
     "execution_count": 21,
     "metadata": {},
     "output_type": "execute_result"
    }
   ],
   "source": [
    "model.conv_layers"
   ]
  },
  {
   "cell_type": "code",
   "execution_count": null,
   "metadata": {},
   "outputs": [],
   "source": []
  }
 ],
 "metadata": {
  "interpreter": {
   "hash": "63b358befa7946ca9e51909d9e28c1ddc82c08cd9e3f3b7c3a857d125f06e3c5"
  },
  "kernelspec": {
   "display_name": "Python 3.8.12 ('han')",
   "language": "python",
   "name": "python3"
  },
  "language_info": {
   "codemirror_mode": {
    "name": "ipython",
    "version": 3
   },
   "file_extension": ".py",
   "mimetype": "text/x-python",
   "name": "python",
   "nbconvert_exporter": "python",
   "pygments_lexer": "ipython3",
   "version": "3.8.12"
  },
  "orig_nbformat": 4
 },
 "nbformat": 4,
 "nbformat_minor": 2
}
