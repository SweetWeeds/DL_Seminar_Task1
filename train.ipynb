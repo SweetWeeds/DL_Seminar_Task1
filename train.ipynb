{
 "cells": [
  {
   "cell_type": "code",
   "execution_count": 1,
   "metadata": {},
   "outputs": [],
   "source": [
    "from tqdm import tqdm\n",
    "import numpy as np\n",
    "import torch\n",
    "import torch.nn as nn\n",
    "import torch.optim as optim\n",
    "import numba\n",
    "from dataset.dataloader import *\n",
    "#from vgg8 import *\n"
   ]
  },
  {
   "cell_type": "code",
   "execution_count": 17,
   "metadata": {},
   "outputs": [],
   "source": [
    "class torch_VGG8(nn.Module):\n",
    "    def __init__(self):\n",
    "        super(torch_VGG8, self,).__init__()\n",
    "        # Layer 1 (B, 1, 28, 28) -> (B, 64, 28, 28)\n",
    "        self.Layer1 = nn.Sequential(\n",
    "            nn.Conv2d(in_channels=1, out_channels=32, kernel_size=3, padding=1),\n",
    "            nn.ReLU(True)\n",
    "        )\n",
    "        # Layer 2 (B, 64, 28, 28) -> (B, 128, 14, 14)\n",
    "        self.Layer2 = nn.Sequential(\n",
    "            nn.Conv2d(in_channels=32, out_channels=64, kernel_size=3, padding=1),\n",
    "            nn.ReLU(True),\n",
    "            nn.MaxPool2d(kernel_size=2, stride=2)\n",
    "        )\n",
    "        # Layer 3 (B, 128, 14, 14) -> (B, 128, 14, 14)\n",
    "        self.Layer3 = nn.Sequential(\n",
    "            nn.Conv2d(in_channels=64, out_channels=64, kernel_size=3, padding=1),\n",
    "            nn.ReLU(True)\n",
    "        )\n",
    "        # Layer 4 (B, 128, 14, 14) -> (B, 256, 7, 7)\n",
    "        self.Layer4 =nn.Sequential(\n",
    "            nn.Conv2d(in_channels=64, out_channels=128, kernel_size=3, padding=1),\n",
    "            nn.ReLU(True),\n",
    "            nn.MaxPool2d(kernel_size=2, stride=2),\n",
    "        )\n",
    "        # Layer 5 (B, 256, 7, 7) -> (B, 512, 7, 7)\n",
    "        self.Layer5 = nn.Sequential(\n",
    "            nn.Conv2d(in_channels=128, out_channels=256, kernel_size=3, padding=1),\n",
    "            nn.ReLU(True)\n",
    "        )\n",
    "        # Layer 6 (B, 512, 7, 7) -> (B, 512, 7, 7)\n",
    "        self.Layer6 = nn.Sequential(\n",
    "            nn.Conv2d(in_channels=256, out_channels=256, kernel_size=3, padding=1),\n",
    "            nn.ReLU(True)\n",
    "        )\n",
    "        # Layer 7 (B, 512*7*7)\n",
    "        self.Layer7 = nn.Sequential(\n",
    "            nn.Linear(in_features=256*7*7, out_features=256, bias=True,),\n",
    "            nn.ReLU(True)\n",
    "        )\n",
    "        # Layer 8\n",
    "        self.Layer8 = nn.Linear(in_features=256, out_features=10, bias=True,)\n",
    "\n",
    "    def forward(self, x):\n",
    "        x = self.Layer1(x)\n",
    "        x = self.Layer2(x)\n",
    "        x = self.Layer3(x)\n",
    "        x = self.Layer4(x)\n",
    "        x = self.Layer5(x)\n",
    "        x = self.Layer6(x)\n",
    "        x = x.view(x.size(0), -1)\n",
    "        x = self.Layer7(x)\n",
    "        x = self.Layer8(x)\n",
    "        return x"
   ]
  },
  {
   "cell_type": "code",
   "execution_count": 18,
   "metadata": {},
   "outputs": [],
   "source": [
    "if (torch.cuda.is_available()):\n",
    "    device = torch.device('cuda')\n",
    "else:\n",
    "    device = torch.device('cpu')\n",
    "torch_vgg8 = torch_VGG8().to(device)\n",
    "criterion = nn.CrossEntropyLoss().to(device)\n",
    "optimizer = optim.SGD(torch_vgg8.parameters(), lr=0.01, momentum=0.9)"
   ]
  },
  {
   "cell_type": "code",
   "execution_count": 19,
   "metadata": {},
   "outputs": [],
   "source": [
    "(x_train, t_train), (x_test, t_test) = load_mnist(normalize=True, one_hot_label=True)"
   ]
  },
  {
   "cell_type": "code",
   "execution_count": 29,
   "metadata": {},
   "outputs": [
    {
     "name": "stdout",
     "output_type": "stream",
     "text": [
      "(60000, 10)\n"
     ]
    },
    {
     "name": "stderr",
     "output_type": "stream",
     "text": [
      " 13%|█▎        | 800/6000 [00:05<00:34, 150.77it/s]"
     ]
    }
   ],
   "source": [
    "print(t_train.shape)\n",
    "batch_size = 10\n",
    "for epoch in range(10):\n",
    "    running_loss = 0.0\n",
    "    accuracy = 0.0\n",
    "    train_size = x_train.shape[0]\n",
    "    for i in tqdm(range(0, train_size, batch_size)):\n",
    "        x = torch.Tensor(x_train[i:i+batch_size]).reshape(batch_size, 1, 28, 28).to(device)   # B, C, H, W\n",
    "        labels = torch.Tensor(t_train[i:i+batch_size]).to(device)\n",
    "\n",
    "        outputs = torch_vgg8(x)\n",
    "        labels = labels.reshape_as(outputs)\n",
    "        loss = criterion(outputs, labels)\n",
    "        loss.backward()\n",
    "        optimizer.step()\n",
    "\n",
    "        running_loss += loss.item()\n",
    "    print('[%d] loss: %.3f' %\n",
    "            (epoch + 1, running_loss / 50))\n",
    "    running_loss = 0.0"
   ]
  },
  {
   "cell_type": "code",
   "execution_count": 75,
   "metadata": {},
   "outputs": [
    {
     "ename": "SyntaxError",
     "evalue": "invalid syntax (828416488.py, line 20)",
     "output_type": "error",
     "traceback": [
      "\u001b[0;36m  File \u001b[0;32m\"/tmp/ipykernel_3485/828416488.py\"\u001b[0;36m, line \u001b[0;32m20\u001b[0m\n\u001b[0;31m    grad =\u001b[0m\n\u001b[0m           ^\u001b[0m\n\u001b[0;31mSyntaxError\u001b[0m\u001b[0;31m:\u001b[0m invalid syntax\n"
     ]
    }
   ],
   "source": [
    "# Load model\n",
    "model = VGG8()\n",
    "\n",
    "# Load MNIST Dataset\n",
    "(x_train, t_train), (x_test, t_test) = load_mnist(normalize=True, one_hot_label=True)\n",
    "\n",
    "# Hyper Params\n",
    "iters_num = 10000\n",
    "train_size  = x_train.shape[0]\n",
    "batch_size = 100\n",
    "learning_rate = 0.1\n",
    "\n",
    "for i in range(iters_num):\n",
    "    # mini batch\n",
    "    batch_mask = np.random.choice(train_size, batch_size)\n",
    "    x_batch = x_train[batch_mask]\n",
    "    t_batch = t_train[batch_mask]\n",
    "\n",
    "    # Calc grads\n",
    "    grad = \n"
   ]
  },
  {
   "cell_type": "code",
   "execution_count": null,
   "metadata": {},
   "outputs": [],
   "source": []
  }
 ],
 "metadata": {
  "interpreter": {
   "hash": "9a7cdbdf4acc413f2026664a4e43a97e227e5467d9e60d879c8298bb8a0c0924"
  },
  "kernelspec": {
   "display_name": "Python 3.8.5 64-bit ('base': conda)",
   "language": "python",
   "name": "python3"
  },
  "language_info": {
   "codemirror_mode": {
    "name": "ipython",
    "version": 3
   },
   "file_extension": ".py",
   "mimetype": "text/x-python",
   "name": "python",
   "nbconvert_exporter": "python",
   "pygments_lexer": "ipython3",
   "version": "3.8.12"
  },
  "orig_nbformat": 4
 },
 "nbformat": 4,
 "nbformat_minor": 2
}
