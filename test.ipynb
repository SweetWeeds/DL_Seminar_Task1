{
 "cells": [
  {
   "cell_type": "code",
   "execution_count": 8,
   "metadata": {},
   "outputs": [],
   "source": [
    "#matplotlib inline\n",
    "import torch\n",
    "import numpy as np\n",
    "from dataset.dataloader import *\n",
    "import operators as ops\n",
    "import os\n",
    "\n",
    "CKPT_DIR = \"./logs/checkpoints\""
   ]
  },
  {
   "cell_type": "markdown",
   "metadata": {},
   "source": [
    "Conv 2D"
   ]
  },
  {
   "cell_type": "code",
   "execution_count": 46,
   "metadata": {},
   "outputs": [
    {
     "name": "stdout",
     "output_type": "stream",
     "text": [
      "w_shape:(1, 1, 3, 3), b_shape:(1,)\n"
     ]
    }
   ],
   "source": [
    "# Conv2D\n",
    "B=1\n",
    "C=1\n",
    "W=28\n",
    "H=28\n",
    "IN_CH = 1\n",
    "OUT_CH = 1\n",
    "kernel_size = 3\n",
    "padding = 1\n",
    "test_vector = np.random.randint(10, 100, size=(B, C, W, H))\n",
    "\n",
    "torch_conv2d = torch.nn.Conv2d(IN_CH, OUT_CH, 3, 1, 1)\n",
    "weight_shape = torch_conv2d.weight.detach().numpy().shape\n",
    "bias_shape = torch_conv2d.bias.detach().numpy().shape\n",
    "print(f\"w_shape:{weight_shape}, b_shape:{bias_shape}\")\n",
    "\n",
    "ops_conv2d   = ops.Conv2D(IN_CH, OUT_CH, 3, 1, 1)\n",
    "ops_conv2d.W = torch_conv2d.weight.detach().numpy()\n",
    "ops_conv2d.b = torch_conv2d.bias.detach().numpy()\n",
    "\n",
    "# Test\n",
    "torch_result = torch_conv2d(torch.Tensor(test_vector)).detach().numpy()\n",
    "ops_result = ops_conv2d.forward(test_vector)\n"
   ]
  },
  {
   "cell_type": "code",
   "execution_count": 49,
   "metadata": {},
   "outputs": [
    {
     "name": "stdout",
     "output_type": "stream",
     "text": [
      "max_diff:1.0497868061065674e-05\n",
      "[-11.43582927   6.06998126   8.64223373  16.65522492  14.85772658\n",
      "   2.87377768   9.33822032  11.94177924   7.06004321   0.32624262\n",
      "   7.43792925   4.32146544  -5.0693445    2.1323599   -5.4252657\n",
      "  15.19542169  -0.71780782   7.03318833   6.53663141   5.08122513\n",
      "   9.58591634   3.07148358   0.82029427  -2.14119099   3.55386713\n",
      "   4.49966384   3.28413869   0.47523301]\n",
      "[-11.43583      6.0699816    8.642235    16.655224    14.857727\n",
      "   2.8737779    9.338221    11.94178      7.0600433    0.3262434\n",
      "   7.437929     4.3214655   -5.069343     2.1323595   -5.4252653\n",
      "  15.195421    -0.71780753   7.0331874    6.5366316    5.0812244\n",
      "   9.5859165    3.0714846    0.82029486  -2.1411915    3.5538669\n",
      "   4.4996634    3.2841392    0.47523284]\n"
     ]
    }
   ],
   "source": [
    "#print(f\"torch:{torch_result}\")\n",
    "#print(f\"ops:{ops_result}\")\n",
    "max_diff = np.max(np.abs(ops_result - torch_result))\n",
    "print(f\"max_diff:{max_diff}\")\n",
    "print(ops_result[0][0][0])\n",
    "print(torch_result[0][0][0])"
   ]
  },
  {
   "cell_type": "markdown",
   "metadata": {},
   "source": [
    "Linear"
   ]
  },
  {
   "cell_type": "code",
   "execution_count": 21,
   "metadata": {},
   "outputs": [
    {
     "name": "stdout",
     "output_type": "stream",
     "text": [
      "w_shape:(1024, 256), b_shape:(1024,)\n"
     ]
    }
   ],
   "source": [
    "# Conv2D\n",
    "B=100\n",
    "C=1\n",
    "W=28\n",
    "H=28\n",
    "IN_CH = 256\n",
    "OUT_CH = 1024\n",
    "\n",
    "test_vector = np.random.randint(1000, 100000, size=(B, IN_CH))\n",
    "\n",
    "torch_conv2d = torch.nn.Linear(IN_CH, OUT_CH, True)\n",
    "weight_shape = torch_conv2d.weight.detach().numpy().shape\n",
    "bias_shape = torch_conv2d.bias.detach().numpy().shape\n",
    "print(f\"w_shape:{weight_shape}, b_shape:{bias_shape}\")\n",
    "\n",
    "ops_conv2d   = ops.FullyConnected(IN_CH, OUT_CH)\n",
    "ops_conv2d.W = torch_conv2d.weight.detach().numpy().T\n",
    "ops_conv2d.b = torch_conv2d.bias.detach().numpy()\n",
    "\n",
    "# Test\n",
    "torch_result = torch_conv2d(torch.Tensor(test_vector)).detach().numpy()\n",
    "ops_result = ops_conv2d.forward(test_vector)\n"
   ]
  },
  {
   "cell_type": "code",
   "execution_count": 22,
   "metadata": {},
   "outputs": [
    {
     "name": "stdout",
     "output_type": "stream",
     "text": [
      "max_diff:0.053243204951286316\n"
     ]
    }
   ],
   "source": [
    "#print(f\"torch:{torch_result}\")\n",
    "#print(f\"ops:{ops_result}\")\n",
    "max_diff = np.max(np.abs(ops_result - torch_result))\n",
    "print(f\"max_diff:{max_diff}\")"
   ]
  },
  {
   "cell_type": "code",
   "execution_count": 13,
   "metadata": {},
   "outputs": [],
   "source": [
    "# MaxPool\n",
    "B=100\n",
    "C=1\n",
    "W=28\n",
    "H=28\n",
    "IN_CH = 256\n",
    "OUT_CH = 1024\n",
    "\n",
    "test_vector = np.random.rand(B, C, H, W)\n",
    "\n",
    "torch_conv2d = torch.nn.MaxPool2d(2, 2)\n",
    "\n",
    "ops_conv2d   = ops.MaxPooling(2, 2)\n",
    "\n",
    "# Test\n",
    "torch_result = torch_conv2d(torch.Tensor(test_vector)).detach().numpy()\n",
    "ops_result = ops_conv2d.forward(test_vector)\n"
   ]
  },
  {
   "cell_type": "code",
   "execution_count": 14,
   "metadata": {},
   "outputs": [
    {
     "name": "stdout",
     "output_type": "stream",
     "text": [
      "max_diff:2.9800866219176214e-08\n"
     ]
    }
   ],
   "source": [
    "#print(f\"torch:{torch_result}\")\n",
    "#print(f\"ops:{ops_result}\")\n",
    "max_diff = np.max(np.abs(ops_result - torch_result))\n",
    "print(f\"max_diff:{max_diff}\")"
   ]
  },
  {
   "cell_type": "code",
   "execution_count": null,
   "metadata": {},
   "outputs": [],
   "source": []
  }
 ],
 "metadata": {
  "interpreter": {
   "hash": "acc5ca9e5ecfaeac7b0836963a38b1daf2fc767dae9d4bc5ee4cf722af7fe714"
  },
  "kernelspec": {
   "display_name": "Python 3.8.12 64-bit ('torch': conda)",
   "language": "python",
   "name": "python3"
  },
  "language_info": {
   "codemirror_mode": {
    "name": "ipython",
    "version": 3
   },
   "file_extension": ".py",
   "mimetype": "text/x-python",
   "name": "python",
   "nbconvert_exporter": "python",
   "pygments_lexer": "ipython3",
   "version": "3.8.12"
  },
  "orig_nbformat": 4
 },
 "nbformat": 4,
 "nbformat_minor": 2
}
