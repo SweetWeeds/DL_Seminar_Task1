{
 "cells": [
  {
   "cell_type": "code",
   "execution_count": 1,
   "metadata": {},
   "outputs": [],
   "source": [
    "import sys, os\n",
    "sys.path.append(os.pardir)\n",
    "import numpy as np\n",
    "import matplotlib.pyplot as plt\n",
    "from dataset.dataloader import load_mnist\n",
    "from common.vgg8 import VGG8\n",
    "from common.trainer import Trainer\n"
   ]
  },
  {
   "cell_type": "code",
   "execution_count": 2,
   "metadata": {},
   "outputs": [],
   "source": [
    "learning_rate = 0.01"
   ]
  },
  {
   "cell_type": "code",
   "execution_count": 3,
   "metadata": {},
   "outputs": [],
   "source": [
    "(x_train, t_train), (x_test, t_test) = load_mnist(flatten=False)"
   ]
  },
  {
   "cell_type": "code",
   "execution_count": 4,
   "metadata": {},
   "outputs": [],
   "source": [
    "model = VGG8()"
   ]
  },
  {
   "cell_type": "code",
   "execution_count": 6,
   "metadata": {},
   "outputs": [
    {
     "name": "stdout",
     "output_type": "stream",
     "text": [
      "train loss:2.300341909704695\n",
      "=== epoch:1, train acc:0.094, test acc:0.087 ===\n",
      "train loss:2.2985496976841353\n",
      "train loss:2.2990569964224012\n",
      "train loss:2.30056531838273\n",
      "train loss:2.2886137864564544\n",
      "train loss:2.2917414521383863\n",
      "train loss:3.4595619054787075\n",
      "train loss:2.29861084185376\n",
      "train loss:2.307863732568434\n",
      "train loss:2.3052851519565873\n",
      "train loss:2.2960192795049763\n",
      "train loss:2.303689661940149\n",
      "train loss:2.2989311664910073\n",
      "train loss:2.303990768556826\n",
      "train loss:2.304707239841456\n",
      "train loss:2.3021798272211487\n",
      "train loss:2.296808936109665\n",
      "train loss:2.2987690227519404\n",
      "train loss:2.3019811677677358\n",
      "train loss:2.287821354274748\n",
      "train loss:2.2848506256219934\n",
      "train loss:2.287746420553342\n",
      "train loss:2.3073628409359954\n",
      "train loss:2.3062661803080977\n",
      "train loss:2.2989680887474027\n",
      "train loss:2.2986807690386626\n",
      "train loss:2.306258299385442\n",
      "train loss:2.3035062094155396\n"
     ]
    }
   ],
   "source": [
    "trainer = Trainer(model,\n",
    "                    x_train, t_train,\n",
    "                    x_test, t_test,\n",
    "                    epochs=1000, mini_batch_size=100,\n",
    "                    optimizer='Adam', optimizer_param={'lr':0.01},\n",
    "                    evaluate_sample_num_per_epoch=1000\n",
    "                )\n",
    "trainer.train()"
   ]
  },
  {
   "cell_type": "code",
   "execution_count": null,
   "metadata": {},
   "outputs": [],
   "source": []
  }
 ],
 "metadata": {
  "interpreter": {
   "hash": "9a7cdbdf4acc413f2026664a4e43a97e227e5467d9e60d879c8298bb8a0c0924"
  },
  "kernelspec": {
   "display_name": "Python 3.8.5 64-bit ('base': conda)",
   "language": "python",
   "name": "python3"
  },
  "language_info": {
   "codemirror_mode": {
    "name": "ipython",
    "version": 3
   },
   "file_extension": ".py",
   "mimetype": "text/x-python",
   "name": "python",
   "nbconvert_exporter": "python",
   "pygments_lexer": "ipython3",
   "version": "3.8.5"
  },
  "orig_nbformat": 4
 },
 "nbformat": 4,
 "nbformat_minor": 2
}
