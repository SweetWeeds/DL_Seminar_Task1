{
 "cells": [
  {
   "cell_type": "code",
   "execution_count": 1,
   "metadata": {},
   "outputs": [],
   "source": [
    "import sys, os\n",
    "sys.path.append(os.pardir)\n",
    "import numpy as np\n",
    "import matplotlib.pyplot as plt\n",
    "from dataset.dataloader import load_mnist\n",
    "from common.vgg8 import VGG8\n",
    "from common.trainer import Trainer\n"
   ]
  },
  {
   "cell_type": "code",
   "execution_count": 2,
   "metadata": {},
   "outputs": [],
   "source": [
    "learning_rate = 0.01"
   ]
  },
  {
   "cell_type": "code",
   "execution_count": 3,
   "metadata": {},
   "outputs": [],
   "source": [
    "(x_train, t_train), (x_test, t_test) = load_mnist(flatten=False)"
   ]
  },
  {
   "cell_type": "code",
   "execution_count": 4,
   "metadata": {},
   "outputs": [],
   "source": [
    "model = VGG8()"
   ]
  },
  {
   "cell_type": "code",
   "execution_count": 5,
   "metadata": {},
   "outputs": [
    {
     "name": "stdout",
     "output_type": "stream",
     "text": [
      "train loss:2.3022351029147106\n",
      "=== epoch:1, train acc:0.099, test acc:0.116 ===\n",
      "train loss:2.3024735356566586\n",
      "train loss:2.3026148459580393\n",
      "train loss:2.302433292724183\n",
      "train loss:2.3020977106091167\n",
      "train loss:2.302626675292248\n",
      "train loss:2.302432818785066\n",
      "train loss:2.2998511643462307\n",
      "train loss:2.3018913038189415\n",
      "train loss:2.29893072894257\n",
      "train loss:2.294845653318099\n",
      "train loss:2.3017446075771684\n",
      "train loss:2.292195796940736\n",
      "train loss:2.2998912933558215\n"
     ]
    }
   ],
   "source": [
    "trainer = Trainer(model,\n",
    "                    x_train, t_train,\n",
    "                    x_test, t_test,\n",
    "                    epochs=1000, mini_batch_size=100,\n",
    "                    optimizer='Adam', optimizer_param={'lr':0.01},\n",
    "                    evaluate_sample_num_per_epoch=1000\n",
    "                )\n",
    "trainer.train()"
   ]
  }
 ],
 "metadata": {
  "interpreter": {
   "hash": "9a7cdbdf4acc413f2026664a4e43a97e227e5467d9e60d879c8298bb8a0c0924"
  },
  "kernelspec": {
   "display_name": "Python 3.8.5 64-bit ('base': conda)",
   "language": "python",
   "name": "python3"
  },
  "language_info": {
   "codemirror_mode": {
    "name": "ipython",
    "version": 3
   },
   "file_extension": ".py",
   "mimetype": "text/x-python",
   "name": "python",
   "nbconvert_exporter": "python",
   "pygments_lexer": "ipython3",
   "version": "3.8.5"
  },
  "orig_nbformat": 4
 },
 "nbformat": 4,
 "nbformat_minor": 2
}
